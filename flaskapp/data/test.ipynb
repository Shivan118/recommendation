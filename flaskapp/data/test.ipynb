{
 "cells": [
  {
   "cell_type": "code",
   "execution_count": 5,
   "metadata": {},
   "outputs": [],
   "source": [
    "import pandas as pd"
   ]
  },
  {
   "cell_type": "code",
   "execution_count": 6,
   "metadata": {},
   "outputs": [],
   "source": [
    "jobs = pd.read_csv('jobs.csv')"
   ]
  },
  {
   "cell_type": "code",
   "execution_count": 7,
   "metadata": {},
   "outputs": [
    {
     "data": {
      "text/html": [
       "<div>\n",
       "<style scoped>\n",
       "    .dataframe tbody tr th:only-of-type {\n",
       "        vertical-align: middle;\n",
       "    }\n",
       "\n",
       "    .dataframe tbody tr th {\n",
       "        vertical-align: top;\n",
       "    }\n",
       "\n",
       "    .dataframe thead th {\n",
       "        text-align: right;\n",
       "    }\n",
       "</style>\n",
       "<table border=\"1\" class=\"dataframe\">\n",
       "  <thead>\n",
       "    <tr style=\"text-align: right;\">\n",
       "      <th></th>\n",
       "      <th>Id</th>\n",
       "      <th>Skills</th>\n",
       "    </tr>\n",
       "  </thead>\n",
       "  <tbody>\n",
       "    <tr>\n",
       "      <th>0</th>\n",
       "      <td>1</td>\n",
       "      <td>['Educational Technology', 'eLearning Consulti...</td>\n",
       "    </tr>\n",
       "    <tr>\n",
       "      <th>1</th>\n",
       "      <td>2</td>\n",
       "      <td>['Web Development', 'App Development']</td>\n",
       "    </tr>\n",
       "    <tr>\n",
       "      <th>2</th>\n",
       "      <td>3</td>\n",
       "      <td>['JavaScript', 'Web Graphics', 'Prototyping', ...</td>\n",
       "    </tr>\n",
       "    <tr>\n",
       "      <th>3</th>\n",
       "      <td>4</td>\n",
       "      <td>['PHP', 'Vue.js']</td>\n",
       "    </tr>\n",
       "    <tr>\n",
       "      <th>4</th>\n",
       "      <td>5</td>\n",
       "      <td>['PHP', 'WordPress', 'Analytics', 'Design Proc...</td>\n",
       "    </tr>\n",
       "    <tr>\n",
       "      <th>...</th>\n",
       "      <td>...</td>\n",
       "      <td>...</td>\n",
       "    </tr>\n",
       "    <tr>\n",
       "      <th>2681</th>\n",
       "      <td>2682</td>\n",
       "      <td>['Brochure Design', 'Business Card Design', 'C...</td>\n",
       "    </tr>\n",
       "    <tr>\n",
       "      <th>2682</th>\n",
       "      <td>2683</td>\n",
       "      <td>english, writing, translation, copy editing, p...</td>\n",
       "    </tr>\n",
       "    <tr>\n",
       "      <th>2683</th>\n",
       "      <td>2684</td>\n",
       "      <td>python, machine learning, data sscience</td>\n",
       "    </tr>\n",
       "    <tr>\n",
       "      <th>2684</th>\n",
       "      <td>2685</td>\n",
       "      <td>content, writing, translation, editing, proof ...</td>\n",
       "    </tr>\n",
       "    <tr>\n",
       "      <th>2685</th>\n",
       "      <td>2686</td>\n",
       "      <td>facebook, twitter, marketing, sales, customer ...</td>\n",
       "    </tr>\n",
       "  </tbody>\n",
       "</table>\n",
       "<p>2686 rows × 2 columns</p>\n",
       "</div>"
      ],
      "text/plain": [
       "        Id                                             Skills\n",
       "0        1  ['Educational Technology', 'eLearning Consulti...\n",
       "1        2             ['Web Development', 'App Development']\n",
       "2        3  ['JavaScript', 'Web Graphics', 'Prototyping', ...\n",
       "3        4                                  ['PHP', 'Vue.js']\n",
       "4        5  ['PHP', 'WordPress', 'Analytics', 'Design Proc...\n",
       "...    ...                                                ...\n",
       "2681  2682  ['Brochure Design', 'Business Card Design', 'C...\n",
       "2682  2683  english, writing, translation, copy editing, p...\n",
       "2683  2684            python, machine learning, data sscience\n",
       "2684  2685  content, writing, translation, editing, proof ...\n",
       "2685  2686  facebook, twitter, marketing, sales, customer ...\n",
       "\n",
       "[2686 rows x 2 columns]"
      ]
     },
     "execution_count": 7,
     "metadata": {},
     "output_type": "execute_result"
    }
   ],
   "source": [
    "jobs[['Id', 'Skills']]"
   ]
  },
  {
   "cell_type": "code",
   "execution_count": null,
   "metadata": {},
   "outputs": [],
   "source": []
  },
  {
   "cell_type": "code",
   "execution_count": 9,
   "metadata": {},
   "outputs": [
    {
     "data": {
      "text/plain": [
       "\"['Bioinformatics']\""
      ]
     },
     "execution_count": 9,
     "metadata": {},
     "output_type": "execute_result"
    }
   ],
   "source": [
    "jobs.loc[jobs['Id'] == 2681]['Skills'].values[0]"
   ]
  },
  {
   "cell_type": "code",
   "execution_count": 3,
   "metadata": {},
   "outputs": [
    {
     "ename": "NameError",
     "evalue": "name 'jobs' is not defined",
     "output_type": "error",
     "traceback": [
      "\u001b[0;31m----------------------------------------------------------------------\u001b[0m",
      "\u001b[0;31mNameError\u001b[0m                            Traceback (most recent call last)",
      "\u001b[0;32m<ipython-input-3-a5c96dfb6591>\u001b[0m in \u001b[0;36m<module>\u001b[0;34m()\u001b[0m\n\u001b[0;32m----> 1\u001b[0;31m \u001b[0mjobs\u001b[0m\u001b[0;34m.\u001b[0m\u001b[0mhead\u001b[0m\u001b[0;34m(\u001b[0m\u001b[0;34m)\u001b[0m\u001b[0;34m\u001b[0m\u001b[0;34m\u001b[0m\u001b[0m\n\u001b[0m",
      "\u001b[0;31mNameError\u001b[0m: name 'jobs' is not defined"
     ]
    }
   ],
   "source": [
    "jobs.head()"
   ]
  },
  {
   "cell_type": "code",
   "execution_count": 29,
   "metadata": {},
   "outputs": [
    {
     "data": {
      "text/plain": [
       "array([   0,    1,    2, ..., 2679, 2680, 2681])"
      ]
     },
     "execution_count": 29,
     "metadata": {},
     "output_type": "execute_result"
    }
   ],
   "source": [
    "jobs.index.values"
   ]
  },
  {
   "cell_type": "code",
   "execution_count": 30,
   "metadata": {},
   "outputs": [],
   "source": [
    "jobs['newId'] = (jobs.index.values+1)"
   ]
  },
  {
   "cell_type": "code",
   "execution_count": 31,
   "metadata": {},
   "outputs": [
    {
     "data": {
      "text/html": [
       "<div>\n",
       "<style scoped>\n",
       "    .dataframe tbody tr th:only-of-type {\n",
       "        vertical-align: middle;\n",
       "    }\n",
       "\n",
       "    .dataframe tbody tr th {\n",
       "        vertical-align: top;\n",
       "    }\n",
       "\n",
       "    .dataframe thead th {\n",
       "        text-align: right;\n",
       "    }\n",
       "</style>\n",
       "<table border=\"1\" class=\"dataframe\">\n",
       "  <thead>\n",
       "    <tr style=\"text-align: right;\">\n",
       "      <th></th>\n",
       "      <th>Unnamed: 0</th>\n",
       "      <th>Id</th>\n",
       "      <th>Created_date</th>\n",
       "      <th>Due_date</th>\n",
       "      <th>User_id</th>\n",
       "      <th>Payment_type</th>\n",
       "      <th>Budget</th>\n",
       "      <th>Job_title</th>\n",
       "      <th>Category</th>\n",
       "      <th>Subcategory</th>\n",
       "      <th>...</th>\n",
       "      <th>Employer_id</th>\n",
       "      <th>No_of_quotes</th>\n",
       "      <th>Link_of_quoters</th>\n",
       "      <th>No_of_Premium_quotes</th>\n",
       "      <th>Link_of_premium_quoters</th>\n",
       "      <th>No_of_inviited</th>\n",
       "      <th>Link_of_invited_freelancers</th>\n",
       "      <th>No_of_Hired</th>\n",
       "      <th>Link_of_hired_freelancers</th>\n",
       "      <th>newId</th>\n",
       "    </tr>\n",
       "  </thead>\n",
       "  <tbody>\n",
       "    <tr>\n",
       "      <th>0</th>\n",
       "      <td>0</td>\n",
       "      <td>1</td>\n",
       "      <td>December 04, 2020</td>\n",
       "      <td>January 02, 2021</td>\n",
       "      <td>1</td>\n",
       "      <td>Fixed Price</td>\n",
       "      <td>[ $5k-$10k]</td>\n",
       "      <td>Looking for \"NetSuite\" Part-Time Trainer</td>\n",
       "      <td>Education &amp; Training</td>\n",
       "      <td>Information Technology</td>\n",
       "      <td>...</td>\n",
       "      <td>1737898</td>\n",
       "      <td>0</td>\n",
       "      <td>[]</td>\n",
       "      <td>0</td>\n",
       "      <td>[]</td>\n",
       "      <td>14</td>\n",
       "      <td>[https://www.guru.com/freelancers/netsuite-fre...</td>\n",
       "      <td>0</td>\n",
       "      <td>[]</td>\n",
       "      <td>1</td>\n",
       "    </tr>\n",
       "    <tr>\n",
       "      <th>1</th>\n",
       "      <td>1</td>\n",
       "      <td>2</td>\n",
       "      <td>December 04, 2020</td>\n",
       "      <td>December 11, 2020</td>\n",
       "      <td>2</td>\n",
       "      <td>Fixed Price</td>\n",
       "      <td>[ Under $250]</td>\n",
       "      <td>developing app for language translator</td>\n",
       "      <td>Programming &amp; Development</td>\n",
       "      <td>Web Development &amp; Design</td>\n",
       "      <td>...</td>\n",
       "      <td>1737897</td>\n",
       "      <td>0</td>\n",
       "      <td>[]</td>\n",
       "      <td>0</td>\n",
       "      <td>[]</td>\n",
       "      <td>0</td>\n",
       "      <td>[]</td>\n",
       "      <td>0</td>\n",
       "      <td>[]</td>\n",
       "      <td>2</td>\n",
       "    </tr>\n",
       "    <tr>\n",
       "      <th>2</th>\n",
       "      <td>2</td>\n",
       "      <td>3</td>\n",
       "      <td>December 04, 2020</td>\n",
       "      <td>January 02, 2021</td>\n",
       "      <td>3</td>\n",
       "      <td>Fixed Price or Hourly</td>\n",
       "      <td>[]</td>\n",
       "      <td>React Js Developers Needed</td>\n",
       "      <td>Programming &amp; Development</td>\n",
       "      <td>Web Development &amp; Design</td>\n",
       "      <td>...</td>\n",
       "      <td>1737894</td>\n",
       "      <td>20</td>\n",
       "      <td>[https://www.guru.com/freelancers/yao-tingchen...</td>\n",
       "      <td>1</td>\n",
       "      <td>[https://www.guru.com/freelancers/yao-tingchen]</td>\n",
       "      <td>0</td>\n",
       "      <td>[]</td>\n",
       "      <td>0</td>\n",
       "      <td>[]</td>\n",
       "      <td>3</td>\n",
       "    </tr>\n",
       "    <tr>\n",
       "      <th>3</th>\n",
       "      <td>3</td>\n",
       "      <td>4</td>\n",
       "      <td>December 04, 2020</td>\n",
       "      <td>January 02, 2021</td>\n",
       "      <td>4</td>\n",
       "      <td>Fixed Price</td>\n",
       "      <td>[ Under $250]</td>\n",
       "      <td>I have minimal issues with my website</td>\n",
       "      <td>Programming &amp; Development</td>\n",
       "      <td>Web Development &amp; Design</td>\n",
       "      <td>...</td>\n",
       "      <td>1737895</td>\n",
       "      <td>13</td>\n",
       "      <td>[https://www.guru.com/freelancers/amazon-softw...</td>\n",
       "      <td>0</td>\n",
       "      <td>[]</td>\n",
       "      <td>3</td>\n",
       "      <td>[https://www.guru.com/freelancers/ahmed-s-helm...</td>\n",
       "      <td>0</td>\n",
       "      <td>[]</td>\n",
       "      <td>4</td>\n",
       "    </tr>\n",
       "    <tr>\n",
       "      <th>4</th>\n",
       "      <td>4</td>\n",
       "      <td>5</td>\n",
       "      <td>December 04, 2020</td>\n",
       "      <td>January 02, 2021</td>\n",
       "      <td>5</td>\n",
       "      <td>Fixed Price</td>\n",
       "      <td>[ $500-$1k]</td>\n",
       "      <td>Wordpress Site Customization</td>\n",
       "      <td>Programming &amp; Development</td>\n",
       "      <td>Web Development &amp; Design</td>\n",
       "      <td>...</td>\n",
       "      <td>1737892</td>\n",
       "      <td>13</td>\n",
       "      <td>[https://www.guru.com/freelancers/amazon-softw...</td>\n",
       "      <td>0</td>\n",
       "      <td>[]</td>\n",
       "      <td>0</td>\n",
       "      <td>[]</td>\n",
       "      <td>0</td>\n",
       "      <td>[]</td>\n",
       "      <td>5</td>\n",
       "    </tr>\n",
       "  </tbody>\n",
       "</table>\n",
       "<p>5 rows × 24 columns</p>\n",
       "</div>"
      ],
      "text/plain": [
       "   Unnamed: 0  Id       Created_date           Due_date  User_id  \\\n",
       "0           0   1  December 04, 2020   January 02, 2021        1   \n",
       "1           1   2  December 04, 2020  December 11, 2020        2   \n",
       "2           2   3  December 04, 2020   January 02, 2021        3   \n",
       "3           3   4  December 04, 2020   January 02, 2021        4   \n",
       "4           4   5  December 04, 2020   January 02, 2021        5   \n",
       "\n",
       "            Payment_type         Budget  \\\n",
       "0            Fixed Price    [ $5k-$10k]   \n",
       "1            Fixed Price  [ Under $250]   \n",
       "2  Fixed Price or Hourly             []   \n",
       "3            Fixed Price  [ Under $250]   \n",
       "4            Fixed Price    [ $500-$1k]   \n",
       "\n",
       "                                  Job_title                   Category  \\\n",
       "0  Looking for \"NetSuite\" Part-Time Trainer       Education & Training   \n",
       "1    developing app for language translator  Programming & Development   \n",
       "2                React Js Developers Needed  Programming & Development   \n",
       "3     I have minimal issues with my website  Programming & Development   \n",
       "4              Wordpress Site Customization  Programming & Development   \n",
       "\n",
       "                 Subcategory  ... Employer_id No_of_quotes  \\\n",
       "0     Information Technology  ...     1737898            0   \n",
       "1   Web Development & Design  ...     1737897            0   \n",
       "2   Web Development & Design  ...     1737894           20   \n",
       "3   Web Development & Design  ...     1737895           13   \n",
       "4   Web Development & Design  ...     1737892           13   \n",
       "\n",
       "                                     Link_of_quoters No_of_Premium_quotes  \\\n",
       "0                                                 []                    0   \n",
       "1                                                 []                    0   \n",
       "2  [https://www.guru.com/freelancers/yao-tingchen...                    1   \n",
       "3  [https://www.guru.com/freelancers/amazon-softw...                    0   \n",
       "4  [https://www.guru.com/freelancers/amazon-softw...                    0   \n",
       "\n",
       "                           Link_of_premium_quoters  No_of_inviited  \\\n",
       "0                                               []              14   \n",
       "1                                               []               0   \n",
       "2  [https://www.guru.com/freelancers/yao-tingchen]               0   \n",
       "3                                               []               3   \n",
       "4                                               []               0   \n",
       "\n",
       "                         Link_of_invited_freelancers  No_of_Hired  \\\n",
       "0  [https://www.guru.com/freelancers/netsuite-fre...            0   \n",
       "1                                                 []            0   \n",
       "2                                                 []            0   \n",
       "3  [https://www.guru.com/freelancers/ahmed-s-helm...            0   \n",
       "4                                                 []            0   \n",
       "\n",
       "  Link_of_hired_freelancers  newId  \n",
       "0                        []      1  \n",
       "1                        []      2  \n",
       "2                        []      3  \n",
       "3                        []      4  \n",
       "4                        []      5  \n",
       "\n",
       "[5 rows x 24 columns]"
      ]
     },
     "execution_count": 31,
     "metadata": {},
     "output_type": "execute_result"
    }
   ],
   "source": [
    "jobs.head()"
   ]
  },
  {
   "cell_type": "code",
   "execution_count": 32,
   "metadata": {},
   "outputs": [],
   "source": [
    "jobs = jobs.drop(2).copy().reset_index()"
   ]
  },
  {
   "cell_type": "code",
   "execution_count": 34,
   "metadata": {},
   "outputs": [],
   "source": [
    "jobs['Id'] = (jobs.index.values+1)"
   ]
  },
  {
   "cell_type": "code",
   "execution_count": 35,
   "metadata": {},
   "outputs": [
    {
     "data": {
      "text/html": [
       "<div>\n",
       "<style scoped>\n",
       "    .dataframe tbody tr th:only-of-type {\n",
       "        vertical-align: middle;\n",
       "    }\n",
       "\n",
       "    .dataframe tbody tr th {\n",
       "        vertical-align: top;\n",
       "    }\n",
       "\n",
       "    .dataframe thead th {\n",
       "        text-align: right;\n",
       "    }\n",
       "</style>\n",
       "<table border=\"1\" class=\"dataframe\">\n",
       "  <thead>\n",
       "    <tr style=\"text-align: right;\">\n",
       "      <th></th>\n",
       "      <th>index</th>\n",
       "      <th>Unnamed: 0</th>\n",
       "      <th>Id</th>\n",
       "      <th>Created_date</th>\n",
       "      <th>Due_date</th>\n",
       "      <th>User_id</th>\n",
       "      <th>Payment_type</th>\n",
       "      <th>Budget</th>\n",
       "      <th>Job_title</th>\n",
       "      <th>Category</th>\n",
       "      <th>...</th>\n",
       "      <th>Employer_id</th>\n",
       "      <th>No_of_quotes</th>\n",
       "      <th>Link_of_quoters</th>\n",
       "      <th>No_of_Premium_quotes</th>\n",
       "      <th>Link_of_premium_quoters</th>\n",
       "      <th>No_of_inviited</th>\n",
       "      <th>Link_of_invited_freelancers</th>\n",
       "      <th>No_of_Hired</th>\n",
       "      <th>Link_of_hired_freelancers</th>\n",
       "      <th>newId</th>\n",
       "    </tr>\n",
       "  </thead>\n",
       "  <tbody>\n",
       "    <tr>\n",
       "      <th>0</th>\n",
       "      <td>0</td>\n",
       "      <td>0</td>\n",
       "      <td>1</td>\n",
       "      <td>December 04, 2020</td>\n",
       "      <td>January 02, 2021</td>\n",
       "      <td>1</td>\n",
       "      <td>Fixed Price</td>\n",
       "      <td>[ $5k-$10k]</td>\n",
       "      <td>Looking for \"NetSuite\" Part-Time Trainer</td>\n",
       "      <td>Education &amp; Training</td>\n",
       "      <td>...</td>\n",
       "      <td>1737898</td>\n",
       "      <td>0</td>\n",
       "      <td>[]</td>\n",
       "      <td>0</td>\n",
       "      <td>[]</td>\n",
       "      <td>14</td>\n",
       "      <td>[https://www.guru.com/freelancers/netsuite-fre...</td>\n",
       "      <td>0</td>\n",
       "      <td>[]</td>\n",
       "      <td>1</td>\n",
       "    </tr>\n",
       "    <tr>\n",
       "      <th>1</th>\n",
       "      <td>1</td>\n",
       "      <td>1</td>\n",
       "      <td>2</td>\n",
       "      <td>December 04, 2020</td>\n",
       "      <td>December 11, 2020</td>\n",
       "      <td>2</td>\n",
       "      <td>Fixed Price</td>\n",
       "      <td>[ Under $250]</td>\n",
       "      <td>developing app for language translator</td>\n",
       "      <td>Programming &amp; Development</td>\n",
       "      <td>...</td>\n",
       "      <td>1737897</td>\n",
       "      <td>0</td>\n",
       "      <td>[]</td>\n",
       "      <td>0</td>\n",
       "      <td>[]</td>\n",
       "      <td>0</td>\n",
       "      <td>[]</td>\n",
       "      <td>0</td>\n",
       "      <td>[]</td>\n",
       "      <td>2</td>\n",
       "    </tr>\n",
       "    <tr>\n",
       "      <th>2</th>\n",
       "      <td>3</td>\n",
       "      <td>3</td>\n",
       "      <td>3</td>\n",
       "      <td>December 04, 2020</td>\n",
       "      <td>January 02, 2021</td>\n",
       "      <td>4</td>\n",
       "      <td>Fixed Price</td>\n",
       "      <td>[ Under $250]</td>\n",
       "      <td>I have minimal issues with my website</td>\n",
       "      <td>Programming &amp; Development</td>\n",
       "      <td>...</td>\n",
       "      <td>1737895</td>\n",
       "      <td>13</td>\n",
       "      <td>[https://www.guru.com/freelancers/amazon-softw...</td>\n",
       "      <td>0</td>\n",
       "      <td>[]</td>\n",
       "      <td>3</td>\n",
       "      <td>[https://www.guru.com/freelancers/ahmed-s-helm...</td>\n",
       "      <td>0</td>\n",
       "      <td>[]</td>\n",
       "      <td>4</td>\n",
       "    </tr>\n",
       "    <tr>\n",
       "      <th>3</th>\n",
       "      <td>4</td>\n",
       "      <td>4</td>\n",
       "      <td>4</td>\n",
       "      <td>December 04, 2020</td>\n",
       "      <td>January 02, 2021</td>\n",
       "      <td>5</td>\n",
       "      <td>Fixed Price</td>\n",
       "      <td>[ $500-$1k]</td>\n",
       "      <td>Wordpress Site Customization</td>\n",
       "      <td>Programming &amp; Development</td>\n",
       "      <td>...</td>\n",
       "      <td>1737892</td>\n",
       "      <td>13</td>\n",
       "      <td>[https://www.guru.com/freelancers/amazon-softw...</td>\n",
       "      <td>0</td>\n",
       "      <td>[]</td>\n",
       "      <td>0</td>\n",
       "      <td>[]</td>\n",
       "      <td>0</td>\n",
       "      <td>[]</td>\n",
       "      <td>5</td>\n",
       "    </tr>\n",
       "    <tr>\n",
       "      <th>4</th>\n",
       "      <td>5</td>\n",
       "      <td>5</td>\n",
       "      <td>5</td>\n",
       "      <td>December 04, 2020</td>\n",
       "      <td>January 02, 2021</td>\n",
       "      <td>5</td>\n",
       "      <td>Fixed Price</td>\n",
       "      <td>[ $250-$500]</td>\n",
       "      <td>Website Database Testing &amp; Report Bugs</td>\n",
       "      <td>Programming &amp; Development</td>\n",
       "      <td>...</td>\n",
       "      <td>1737891</td>\n",
       "      <td>6</td>\n",
       "      <td>[https://www.guru.com/freelancers/amazon-softw...</td>\n",
       "      <td>0</td>\n",
       "      <td>[]</td>\n",
       "      <td>0</td>\n",
       "      <td>[]</td>\n",
       "      <td>0</td>\n",
       "      <td>[]</td>\n",
       "      <td>6</td>\n",
       "    </tr>\n",
       "  </tbody>\n",
       "</table>\n",
       "<p>5 rows × 25 columns</p>\n",
       "</div>"
      ],
      "text/plain": [
       "   index  Unnamed: 0  Id       Created_date           Due_date  User_id  \\\n",
       "0      0           0   1  December 04, 2020   January 02, 2021        1   \n",
       "1      1           1   2  December 04, 2020  December 11, 2020        2   \n",
       "2      3           3   3  December 04, 2020   January 02, 2021        4   \n",
       "3      4           4   4  December 04, 2020   January 02, 2021        5   \n",
       "4      5           5   5  December 04, 2020   January 02, 2021        5   \n",
       "\n",
       "  Payment_type         Budget                                 Job_title  \\\n",
       "0  Fixed Price    [ $5k-$10k]  Looking for \"NetSuite\" Part-Time Trainer   \n",
       "1  Fixed Price  [ Under $250]    developing app for language translator   \n",
       "2  Fixed Price  [ Under $250]     I have minimal issues with my website   \n",
       "3  Fixed Price    [ $500-$1k]              Wordpress Site Customization   \n",
       "4  Fixed Price   [ $250-$500]    Website Database Testing & Report Bugs   \n",
       "\n",
       "                    Category  ... Employer_id No_of_quotes  \\\n",
       "0       Education & Training  ...     1737898            0   \n",
       "1  Programming & Development  ...     1737897            0   \n",
       "2  Programming & Development  ...     1737895           13   \n",
       "3  Programming & Development  ...     1737892           13   \n",
       "4  Programming & Development  ...     1737891            6   \n",
       "\n",
       "                                     Link_of_quoters No_of_Premium_quotes  \\\n",
       "0                                                 []                    0   \n",
       "1                                                 []                    0   \n",
       "2  [https://www.guru.com/freelancers/amazon-softw...                    0   \n",
       "3  [https://www.guru.com/freelancers/amazon-softw...                    0   \n",
       "4  [https://www.guru.com/freelancers/amazon-softw...                    0   \n",
       "\n",
       "  Link_of_premium_quoters  No_of_inviited  \\\n",
       "0                      []              14   \n",
       "1                      []               0   \n",
       "2                      []               3   \n",
       "3                      []               0   \n",
       "4                      []               0   \n",
       "\n",
       "                         Link_of_invited_freelancers No_of_Hired  \\\n",
       "0  [https://www.guru.com/freelancers/netsuite-fre...           0   \n",
       "1                                                 []           0   \n",
       "2  [https://www.guru.com/freelancers/ahmed-s-helm...           0   \n",
       "3                                                 []           0   \n",
       "4                                                 []           0   \n",
       "\n",
       "   Link_of_hired_freelancers newId  \n",
       "0                         []     1  \n",
       "1                         []     2  \n",
       "2                         []     4  \n",
       "3                         []     5  \n",
       "4                         []     6  \n",
       "\n",
       "[5 rows x 25 columns]"
      ]
     },
     "execution_count": 35,
     "metadata": {},
     "output_type": "execute_result"
    }
   ],
   "source": [
    "jobs.head()"
   ]
  },
  {
   "cell_type": "code",
   "execution_count": null,
   "metadata": {},
   "outputs": [],
   "source": []
  },
  {
   "cell_type": "code",
   "execution_count": null,
   "metadata": {},
   "outputs": [],
   "source": []
  },
  {
   "cell_type": "code",
   "execution_count": 66,
   "metadata": {
    "collapsed": true
   },
   "outputs": [
    {
     "data": {
      "text/plain": [
       "dtype('O')"
      ]
     },
     "execution_count": 66,
     "metadata": {},
     "output_type": "execute_result"
    }
   ],
   "source": [
    "jobs.Payment_type.dtypes"
   ]
  },
  {
   "cell_type": "code",
   "execution_count": 6,
   "metadata": {},
   "outputs": [],
   "source": [
    "test = pd.DataFrame(columns = jobs.columns)"
   ]
  },
  {
   "cell_type": "code",
   "execution_count": 7,
   "metadata": {},
   "outputs": [
    {
     "data": {
      "text/html": [
       "<div>\n",
       "<style scoped>\n",
       "    .dataframe tbody tr th:only-of-type {\n",
       "        vertical-align: middle;\n",
       "    }\n",
       "\n",
       "    .dataframe tbody tr th {\n",
       "        vertical-align: top;\n",
       "    }\n",
       "\n",
       "    .dataframe thead th {\n",
       "        text-align: right;\n",
       "    }\n",
       "</style>\n",
       "<table border=\"1\" class=\"dataframe\">\n",
       "  <thead>\n",
       "    <tr style=\"text-align: right;\">\n",
       "      <th></th>\n",
       "      <th>Unnamed: 0</th>\n",
       "      <th>Id</th>\n",
       "      <th>Created_date</th>\n",
       "      <th>Due_date</th>\n",
       "      <th>User_id</th>\n",
       "      <th>Payment_type</th>\n",
       "      <th>Budget</th>\n",
       "      <th>Job_title</th>\n",
       "      <th>Category</th>\n",
       "      <th>Subcategory</th>\n",
       "      <th>...</th>\n",
       "      <th>Link_of_employer</th>\n",
       "      <th>Employer_id</th>\n",
       "      <th>No_of_quotes</th>\n",
       "      <th>Link_of_quoters</th>\n",
       "      <th>No_of_Premium_quotes</th>\n",
       "      <th>Link_of_premium_quoters</th>\n",
       "      <th>No_of_inviited</th>\n",
       "      <th>Link_of_invited_freelancers</th>\n",
       "      <th>No_of_Hired</th>\n",
       "      <th>Link_of_hired_freelancers</th>\n",
       "    </tr>\n",
       "  </thead>\n",
       "  <tbody>\n",
       "  </tbody>\n",
       "</table>\n",
       "<p>0 rows × 23 columns</p>\n",
       "</div>"
      ],
      "text/plain": [
       "Empty DataFrame\n",
       "Columns: [Unnamed: 0, Id, Created_date, Due_date, User_id, Payment_type, Budget, Job_title, Category, Subcategory, Job_description, Name_of_employer, Skills, Link_of_employer, Employer_id, No_of_quotes, Link_of_quoters, No_of_Premium_quotes, Link_of_premium_quoters, No_of_inviited, Link_of_invited_freelancers, No_of_Hired, Link_of_hired_freelancers]\n",
       "Index: []\n",
       "\n",
       "[0 rows x 23 columns]"
      ]
     },
     "execution_count": 7,
     "metadata": {},
     "output_type": "execute_result"
    }
   ],
   "source": [
    "test"
   ]
  },
  {
   "cell_type": "code",
   "execution_count": 8,
   "metadata": {},
   "outputs": [],
   "source": [
    "from sqlalchemy import create_engine"
   ]
  },
  {
   "cell_type": "code",
   "execution_count": 9,
   "metadata": {},
   "outputs": [],
   "source": [
    "engine = create_engine('sqlite:////site.db', convert_unicode=True)"
   ]
  },
  {
   "cell_type": "code",
   "execution_count": 59,
   "metadata": {},
   "outputs": [
    {
     "data": {
      "text/plain": [
       "December 04, 2020    158\n",
       "Dec 01, 2020         146\n",
       "Nov 11, 2020         114\n",
       "Nov 17, 2020         109\n",
       "Dec 02, 2020          96\n",
       "                    ... \n",
       "Jan 07, 2020           1\n",
       "Aug 06, 2020           1\n",
       "Nov 21, 2017           1\n",
       "Sep 05, 2020           1\n",
       "May 06, 2018           1\n",
       "Name: Created_date, Length: 169, dtype: int64"
      ]
     },
     "execution_count": 59,
     "metadata": {},
     "output_type": "execute_result"
    }
   ],
   "source": [
    "jobs.Created_date.value_counts()"
   ]
  },
  {
   "cell_type": "code",
   "execution_count": 29,
   "metadata": {},
   "outputs": [],
   "source": [
    "new_cols = list(jobs.drop(['Unnamed: 0', 'Due_date', 'Name_of_employer', 'Link_of_employer', 'Employer_id', 'No_of_quotes', 'No_of_Premium_quotes', 'Link_of_premium_quoters', 'No_of_inviited', 'No_of_Hired'], axis=1).columns) + ['Min_budget', 'Job_cluster_id']"
   ]
  },
  {
   "cell_type": "code",
   "execution_count": 30,
   "metadata": {},
   "outputs": [],
   "source": [
    "test = pd.DataFrame(columns = new_cols)"
   ]
  },
  {
   "cell_type": "code",
   "execution_count": 31,
   "metadata": {},
   "outputs": [
    {
     "data": {
      "text/html": [
       "<div>\n",
       "<style scoped>\n",
       "    .dataframe tbody tr th:only-of-type {\n",
       "        vertical-align: middle;\n",
       "    }\n",
       "\n",
       "    .dataframe tbody tr th {\n",
       "        vertical-align: top;\n",
       "    }\n",
       "\n",
       "    .dataframe thead th {\n",
       "        text-align: right;\n",
       "    }\n",
       "</style>\n",
       "<table border=\"1\" class=\"dataframe\">\n",
       "  <thead>\n",
       "    <tr style=\"text-align: right;\">\n",
       "      <th></th>\n",
       "      <th>Id</th>\n",
       "      <th>Created_date</th>\n",
       "      <th>User_id</th>\n",
       "      <th>Payment_type</th>\n",
       "      <th>Budget</th>\n",
       "      <th>Job_title</th>\n",
       "      <th>Category</th>\n",
       "      <th>Subcategory</th>\n",
       "      <th>Job_description</th>\n",
       "      <th>Skills</th>\n",
       "      <th>Link_of_quoters</th>\n",
       "      <th>Link_of_invited_freelancers</th>\n",
       "      <th>Link_of_hired_freelancers</th>\n",
       "      <th>Min_budget</th>\n",
       "      <th>Job_cluster_id</th>\n",
       "    </tr>\n",
       "  </thead>\n",
       "  <tbody>\n",
       "  </tbody>\n",
       "</table>\n",
       "</div>"
      ],
      "text/plain": [
       "Empty DataFrame\n",
       "Columns: [Id, Created_date, User_id, Payment_type, Budget, Job_title, Category, Subcategory, Job_description, Skills, Link_of_quoters, Link_of_invited_freelancers, Link_of_hired_freelancers, Min_budget, Job_cluster_id]\n",
       "Index: []"
      ]
     },
     "execution_count": 31,
     "metadata": {},
     "output_type": "execute_result"
    }
   ],
   "source": [
    "test"
   ]
  },
  {
   "cell_type": "code",
   "execution_count": 28,
   "metadata": {},
   "outputs": [
    {
     "data": {
      "text/plain": [
       "['Id',\n",
       " 'Created_date',\n",
       " 'User_id',\n",
       " 'Payment_type',\n",
       " 'Budget',\n",
       " 'Job_title',\n",
       " 'Category',\n",
       " 'Subcategory',\n",
       " 'Job_description',\n",
       " 'Skills',\n",
       " 'Link_of_quoters',\n",
       " 'Link_of_invited_freelancers',\n",
       " 'Link_of_hired_freelancers']"
      ]
     },
     "execution_count": 28,
     "metadata": {},
     "output_type": "execute_result"
    }
   ],
   "source": [
    "list(new_cols)"
   ]
  },
  {
   "cell_type": "code",
   "execution_count": 45,
   "metadata": {},
   "outputs": [
    {
     "data": {
      "text/html": [
       "<div>\n",
       "<style scoped>\n",
       "    .dataframe tbody tr th:only-of-type {\n",
       "        vertical-align: middle;\n",
       "    }\n",
       "\n",
       "    .dataframe tbody tr th {\n",
       "        vertical-align: top;\n",
       "    }\n",
       "\n",
       "    .dataframe thead th {\n",
       "        text-align: right;\n",
       "    }\n",
       "</style>\n",
       "<table border=\"1\" class=\"dataframe\">\n",
       "  <thead>\n",
       "    <tr style=\"text-align: right;\">\n",
       "      <th></th>\n",
       "      <th>Id</th>\n",
       "      <th>Created_date</th>\n",
       "      <th>User_id</th>\n",
       "      <th>Payment_type</th>\n",
       "      <th>Budget</th>\n",
       "      <th>Job_title</th>\n",
       "      <th>Category</th>\n",
       "      <th>Subcategory</th>\n",
       "      <th>Job_description</th>\n",
       "      <th>Skills</th>\n",
       "      <th>Link_of_quoters</th>\n",
       "      <th>Link_of_invited_freelancers</th>\n",
       "      <th>Link_of_hired_freelancers</th>\n",
       "      <th>Min_budget</th>\n",
       "      <th>Job_cluster_id</th>\n",
       "    </tr>\n",
       "  </thead>\n",
       "  <tbody>\n",
       "  </tbody>\n",
       "</table>\n",
       "</div>"
      ],
      "text/plain": [
       "Empty DataFrame\n",
       "Columns: [Id, Created_date, User_id, Payment_type, Budget, Job_title, Category, Subcategory, Job_description, Skills, Link_of_quoters, Link_of_invited_freelancers, Link_of_hired_freelancers, Min_budget, Job_cluster_id]\n",
       "Index: []"
      ]
     },
     "execution_count": 45,
     "metadata": {},
     "output_type": "execute_result"
    }
   ],
   "source": [
    "test"
   ]
  },
  {
   "cell_type": "code",
   "execution_count": 53,
   "metadata": {},
   "outputs": [],
   "source": [
    "row = [1, '', 5, '', 'abc', 'pd', 'abc', 'abc', 'python', '', '', '', '', 0]"
   ]
  },
  {
   "cell_type": "code",
   "execution_count": 51,
   "metadata": {},
   "outputs": [
    {
     "data": {
      "text/html": [
       "<div>\n",
       "<style scoped>\n",
       "    .dataframe tbody tr th:only-of-type {\n",
       "        vertical-align: middle;\n",
       "    }\n",
       "\n",
       "    .dataframe tbody tr th {\n",
       "        vertical-align: top;\n",
       "    }\n",
       "\n",
       "    .dataframe thead th {\n",
       "        text-align: right;\n",
       "    }\n",
       "</style>\n",
       "<table border=\"1\" class=\"dataframe\">\n",
       "  <thead>\n",
       "    <tr style=\"text-align: right;\">\n",
       "      <th></th>\n",
       "      <th>Id</th>\n",
       "      <th>Created_date</th>\n",
       "      <th>User_id</th>\n",
       "      <th>Payment_type</th>\n",
       "      <th>Budget</th>\n",
       "      <th>Job_title</th>\n",
       "      <th>Category</th>\n",
       "      <th>Subcategory</th>\n",
       "      <th>Job_description</th>\n",
       "      <th>Skills</th>\n",
       "      <th>...</th>\n",
       "      <th>4</th>\n",
       "      <th>5</th>\n",
       "      <th>6</th>\n",
       "      <th>7</th>\n",
       "      <th>8</th>\n",
       "      <th>9</th>\n",
       "      <th>10</th>\n",
       "      <th>11</th>\n",
       "      <th>12</th>\n",
       "      <th>13</th>\n",
       "    </tr>\n",
       "  </thead>\n",
       "  <tbody>\n",
       "    <tr>\n",
       "      <th>0</th>\n",
       "      <td>NaN</td>\n",
       "      <td>NaN</td>\n",
       "      <td>NaN</td>\n",
       "      <td>NaN</td>\n",
       "      <td>NaN</td>\n",
       "      <td>NaN</td>\n",
       "      <td>NaN</td>\n",
       "      <td>NaN</td>\n",
       "      <td>NaN</td>\n",
       "      <td>NaN</td>\n",
       "      <td>...</td>\n",
       "      <td>abc</td>\n",
       "      <td>pd</td>\n",
       "      <td>abc</td>\n",
       "      <td>abc</td>\n",
       "      <td>python</td>\n",
       "      <td></td>\n",
       "      <td></td>\n",
       "      <td></td>\n",
       "      <td></td>\n",
       "      <td>0.0</td>\n",
       "    </tr>\n",
       "  </tbody>\n",
       "</table>\n",
       "<p>1 rows × 29 columns</p>\n",
       "</div>"
      ],
      "text/plain": [
       "    Id Created_date User_id Payment_type Budget Job_title Category  \\\n",
       "0  NaN          NaN     NaN          NaN    NaN       NaN      NaN   \n",
       "\n",
       "  Subcategory Job_description Skills  ...    4   5    6    7       8  9 10  \\\n",
       "0         NaN             NaN    NaN  ...  abc  pd  abc  abc  python         \n",
       "\n",
       "   11 12   13  \n",
       "0         0.0  \n",
       "\n",
       "[1 rows x 29 columns]"
      ]
     },
     "execution_count": 51,
     "metadata": {},
     "output_type": "execute_result"
    }
   ],
   "source": [
    "df.append({'Id':1, 'Created_date':'January 2, 2021', 'User_id':5, 'Payment_type':, 'Budget':, 'Job_title':, 'Category':, 'Subcategory':, 'Job_description':, Skill'Skills':, 'Link_of_quoters':, 'Link_of_invited_freelancers':, 'Link_of_hired_freelancers':, 'Min_budget':, 'Job_cluster_id':}, ignore_index=True)"
   ]
  },
  {
   "cell_type": "code",
   "execution_count": 55,
   "metadata": {},
   "outputs": [
    {
     "data": {
      "text/plain": [
       "Index(['Id', 'Created_date', 'User_id', 'Payment_type', 'Budget', 'Job_title',\n",
       "       'Category', 'Subcategory', 'Job_description', 'Skills',\n",
       "       'Link_of_quoters', 'Link_of_invited_freelancers',\n",
       "       'Link_of_hired_freelancers', 'Min_budget', 'Job_cluster_id'],\n",
       "      dtype='object')"
      ]
     },
     "execution_count": 55,
     "metadata": {},
     "output_type": "execute_result"
    }
   ],
   "source": [
    "test.columns"
   ]
  },
  {
   "cell_type": "code",
   "execution_count": 54,
   "metadata": {},
   "outputs": [
    {
     "ename": "ValueError",
     "evalue": "cannot set a row with mismatched columns",
     "output_type": "error",
     "traceback": [
      "\u001b[0;31m----------------------------------------------------------------------\u001b[0m",
      "\u001b[0;31mValueError\u001b[0m                           Traceback (most recent call last)",
      "\u001b[0;32m<ipython-input-54-9f8e7c19a96b>\u001b[0m in \u001b[0;36m<module>\u001b[0;34m()\u001b[0m\n\u001b[0;32m----> 1\u001b[0;31m \u001b[0mtest\u001b[0m\u001b[0;34m.\u001b[0m\u001b[0mloc\u001b[0m\u001b[0;34m[\u001b[0m\u001b[0mlen\u001b[0m\u001b[0;34m(\u001b[0m\u001b[0mtest\u001b[0m\u001b[0;34m)\u001b[0m\u001b[0;34m]\u001b[0m \u001b[0;34m=\u001b[0m \u001b[0mrow\u001b[0m\u001b[0;34m\u001b[0m\u001b[0;34m\u001b[0m\u001b[0m\n\u001b[0m",
      "\u001b[0;32m/home/robin/.local/lib/python3.6/site-packages/pandas/core/indexing.py\u001b[0m in \u001b[0;36m__setitem__\u001b[0;34m(self, key, value)\u001b[0m\n\u001b[1;32m    669\u001b[0m             \u001b[0mkey\u001b[0m \u001b[0;34m=\u001b[0m \u001b[0mcom\u001b[0m\u001b[0;34m.\u001b[0m\u001b[0mapply_if_callable\u001b[0m\u001b[0;34m(\u001b[0m\u001b[0mkey\u001b[0m\u001b[0;34m,\u001b[0m \u001b[0mself\u001b[0m\u001b[0;34m.\u001b[0m\u001b[0mobj\u001b[0m\u001b[0;34m)\u001b[0m\u001b[0;34m\u001b[0m\u001b[0;34m\u001b[0m\u001b[0m\n\u001b[1;32m    670\u001b[0m         \u001b[0mindexer\u001b[0m \u001b[0;34m=\u001b[0m \u001b[0mself\u001b[0m\u001b[0;34m.\u001b[0m\u001b[0m_get_setitem_indexer\u001b[0m\u001b[0;34m(\u001b[0m\u001b[0mkey\u001b[0m\u001b[0;34m)\u001b[0m\u001b[0;34m\u001b[0m\u001b[0;34m\u001b[0m\u001b[0m\n\u001b[0;32m--> 671\u001b[0;31m         \u001b[0mself\u001b[0m\u001b[0;34m.\u001b[0m\u001b[0m_setitem_with_indexer\u001b[0m\u001b[0;34m(\u001b[0m\u001b[0mindexer\u001b[0m\u001b[0;34m,\u001b[0m \u001b[0mvalue\u001b[0m\u001b[0;34m)\u001b[0m\u001b[0;34m\u001b[0m\u001b[0;34m\u001b[0m\u001b[0m\n\u001b[0m\u001b[1;32m    672\u001b[0m \u001b[0;34m\u001b[0m\u001b[0m\n\u001b[1;32m    673\u001b[0m     \u001b[0;32mdef\u001b[0m \u001b[0m_validate_key\u001b[0m\u001b[0;34m(\u001b[0m\u001b[0mself\u001b[0m\u001b[0;34m,\u001b[0m \u001b[0mkey\u001b[0m\u001b[0;34m,\u001b[0m \u001b[0maxis\u001b[0m\u001b[0;34m:\u001b[0m \u001b[0mint\u001b[0m\u001b[0;34m)\u001b[0m\u001b[0;34m:\u001b[0m\u001b[0;34m\u001b[0m\u001b[0;34m\u001b[0m\u001b[0m\n",
      "\u001b[0;32m/home/robin/.local/lib/python3.6/site-packages/pandas/core/indexing.py\u001b[0m in \u001b[0;36m_setitem_with_indexer\u001b[0;34m(self, indexer, value)\u001b[0m\n\u001b[1;32m    873\u001b[0m \u001b[0;34m\u001b[0m\u001b[0m\n\u001b[1;32m    874\u001b[0m             \u001b[0;32mif\u001b[0m \u001b[0mmissing\u001b[0m\u001b[0;34m:\u001b[0m\u001b[0;34m\u001b[0m\u001b[0;34m\u001b[0m\u001b[0m\n\u001b[0;32m--> 875\u001b[0;31m                 \u001b[0;32mreturn\u001b[0m \u001b[0mself\u001b[0m\u001b[0;34m.\u001b[0m\u001b[0m_setitem_with_indexer_missing\u001b[0m\u001b[0;34m(\u001b[0m\u001b[0mindexer\u001b[0m\u001b[0;34m,\u001b[0m \u001b[0mvalue\u001b[0m\u001b[0;34m)\u001b[0m\u001b[0;34m\u001b[0m\u001b[0;34m\u001b[0m\u001b[0m\n\u001b[0m\u001b[1;32m    876\u001b[0m \u001b[0;34m\u001b[0m\u001b[0m\n\u001b[1;32m    877\u001b[0m         \u001b[0;31m# set\u001b[0m\u001b[0;34m\u001b[0m\u001b[0;34m\u001b[0m\u001b[0;34m\u001b[0m\u001b[0m\n",
      "\u001b[0;32m/home/robin/.local/lib/python3.6/site-packages/pandas/core/indexing.py\u001b[0m in \u001b[0;36m_setitem_with_indexer_missing\u001b[0;34m(self, indexer, value)\u001b[0m\n\u001b[1;32m   1117\u001b[0m                     \u001b[0;31m# must have conforming columns\u001b[0m\u001b[0;34m\u001b[0m\u001b[0;34m\u001b[0m\u001b[0;34m\u001b[0m\u001b[0m\n\u001b[1;32m   1118\u001b[0m                     \u001b[0;32mif\u001b[0m \u001b[0mlen\u001b[0m\u001b[0;34m(\u001b[0m\u001b[0mvalue\u001b[0m\u001b[0;34m)\u001b[0m \u001b[0;34m!=\u001b[0m \u001b[0mlen\u001b[0m\u001b[0;34m(\u001b[0m\u001b[0mself\u001b[0m\u001b[0;34m.\u001b[0m\u001b[0mobj\u001b[0m\u001b[0;34m.\u001b[0m\u001b[0mcolumns\u001b[0m\u001b[0;34m)\u001b[0m\u001b[0;34m:\u001b[0m\u001b[0;34m\u001b[0m\u001b[0;34m\u001b[0m\u001b[0m\n\u001b[0;32m-> 1119\u001b[0;31m                         \u001b[0;32mraise\u001b[0m \u001b[0mValueError\u001b[0m\u001b[0;34m(\u001b[0m\u001b[0;34m\"cannot set a row with mismatched columns\"\u001b[0m\u001b[0;34m)\u001b[0m\u001b[0;34m\u001b[0m\u001b[0;34m\u001b[0m\u001b[0m\n\u001b[0m\u001b[1;32m   1120\u001b[0m \u001b[0;34m\u001b[0m\u001b[0m\n\u001b[1;32m   1121\u001b[0m                 \u001b[0mvalue\u001b[0m \u001b[0;34m=\u001b[0m \u001b[0mSeries\u001b[0m\u001b[0;34m(\u001b[0m\u001b[0mvalue\u001b[0m\u001b[0;34m,\u001b[0m \u001b[0mindex\u001b[0m\u001b[0;34m=\u001b[0m\u001b[0mself\u001b[0m\u001b[0;34m.\u001b[0m\u001b[0mobj\u001b[0m\u001b[0;34m.\u001b[0m\u001b[0mcolumns\u001b[0m\u001b[0;34m,\u001b[0m \u001b[0mname\u001b[0m\u001b[0;34m=\u001b[0m\u001b[0mindexer\u001b[0m\u001b[0;34m)\u001b[0m\u001b[0;34m\u001b[0m\u001b[0;34m\u001b[0m\u001b[0m\n",
      "\u001b[0;31mValueError\u001b[0m: cannot set a row with mismatched columns"
     ]
    }
   ],
   "source": [
    "df.append({'Id':1, 'Created_date':'', 'User_id':5, 'Payment_type':, 'Budget':, 'Job_title':, 'Category':, 'Subcategory':, 'Job_description':, Skill'Skills':, 'Link_of_quoters':, 'Link_of_invited_freelancers':, 'Link_of_hired_freelancers':, 'Min_budget':, 'Job_cluster_id':}, ignore_index=True)"
   ]
  },
  {
   "cell_type": "code",
   "execution_count": 68,
   "metadata": {},
   "outputs": [
    {
     "ename": "SyntaxError",
     "evalue": "invalid syntax (<ipython-input-68-7af551ec71ec>, line 1)",
     "output_type": "error",
     "traceback": [
      "\u001b[0;36m  File \u001b[0;32m\"<ipython-input-68-7af551ec71ec>\"\u001b[0;36m, line \u001b[0;32m1\u001b[0m\n\u001b[0;31m    df.append({'Id':1, 'Created_date':2, 'User_id':, 'Payment_type':, 'Budget':, 'Job_title':, 'Category':, 'Subcategory':, 'Job_description':, Skill'Skills':, 'Link_of_quoters':, 'Link_of_invited_freelancers':, 'Link_of_hired_freelancers':, 'Min_budget':, 'Job_cluster_id':}, ignore_index=True)\u001b[0m\n\u001b[0m                                                   ^\u001b[0m\n\u001b[0;31mSyntaxError\u001b[0m\u001b[0;31m:\u001b[0m invalid syntax\n"
     ]
    }
   ],
   "source": [
    "df.append({'Id':1, 'Created_date':2, 'User_id':, 'Payment_type':, 'Budget':, 'Job_title':, 'Category':, 'Subcategory':, 'Job_description':, Skill'Skills':, 'Link_of_quoters':, 'Link_of_invited_freelancers':, 'Link_of_hired_freelancers':, 'Min_budget':, 'Job_cluster_id':}, ignore_index=True)"
   ]
  },
  {
   "cell_type": "code",
   "execution_count": 69,
   "metadata": {},
   "outputs": [],
   "source": [
    "profiles = pd.read_csv('profiles.csv', converters={'Hourly Rate':eval, 'Starting Rate':eval, 'Skills':eval})"
   ]
  },
  {
   "cell_type": "code",
   "execution_count": 70,
   "metadata": {},
   "outputs": [
    {
     "data": {
      "text/plain": [
       "Index(['Id', 'Freelancer_Link', 'Freelancer Name', 'User Id',\n",
       "       'Total_Feedback_Received', 'Hourly Rate', 'Starting Rate',\n",
       "       'Freelancer Type', 'Member', 'Rating', 'Location', 'Annual Earnings',\n",
       "       'All-Time Earnings', 'Transactions Completed', 'Employers',\n",
       "       'Largest Employer', 'Member Since', 'Skills'],\n",
       "      dtype='object')"
      ]
     },
     "execution_count": 70,
     "metadata": {},
     "output_type": "execute_result"
    }
   ],
   "source": [
    "profiles.columns"
   ]
  },
  {
   "cell_type": "code",
   "execution_count": 72,
   "metadata": {},
   "outputs": [],
   "source": [
    "new_columns = list(profiles.drop(['Freelancer Name', 'Freelancer Type', 'Member', 'Employers', 'Largest Employer'], axis=1).columns) + ['Average Earnings']"
   ]
  },
  {
   "cell_type": "code",
   "execution_count": 73,
   "metadata": {},
   "outputs": [],
   "source": [
    "df = pd.DataFrame(columns=new_columns)"
   ]
  },
  {
   "cell_type": "code",
   "execution_count": 74,
   "metadata": {},
   "outputs": [
    {
     "data": {
      "text/html": [
       "<div>\n",
       "<style scoped>\n",
       "    .dataframe tbody tr th:only-of-type {\n",
       "        vertical-align: middle;\n",
       "    }\n",
       "\n",
       "    .dataframe tbody tr th {\n",
       "        vertical-align: top;\n",
       "    }\n",
       "\n",
       "    .dataframe thead th {\n",
       "        text-align: right;\n",
       "    }\n",
       "</style>\n",
       "<table border=\"1\" class=\"dataframe\">\n",
       "  <thead>\n",
       "    <tr style=\"text-align: right;\">\n",
       "      <th></th>\n",
       "      <th>Id</th>\n",
       "      <th>Freelancer_Link</th>\n",
       "      <th>User Id</th>\n",
       "      <th>Total_Feedback_Received</th>\n",
       "      <th>Hourly Rate</th>\n",
       "      <th>Starting Rate</th>\n",
       "      <th>Rating</th>\n",
       "      <th>Location</th>\n",
       "      <th>Annual Earnings</th>\n",
       "      <th>All-Time Earnings</th>\n",
       "      <th>Transactions Completed</th>\n",
       "      <th>Member Since</th>\n",
       "      <th>Skills</th>\n",
       "      <th>Average Earnings</th>\n",
       "    </tr>\n",
       "  </thead>\n",
       "  <tbody>\n",
       "  </tbody>\n",
       "</table>\n",
       "</div>"
      ],
      "text/plain": [
       "Empty DataFrame\n",
       "Columns: [Id, Freelancer_Link, User Id, Total_Feedback_Received, Hourly Rate, Starting Rate, Rating, Location, Annual Earnings, All-Time Earnings, Transactions Completed, Member Since, Skills, Average Earnings]\n",
       "Index: []"
      ]
     },
     "execution_count": 74,
     "metadata": {},
     "output_type": "execute_result"
    }
   ],
   "source": [
    "df"
   ]
  },
  {
   "cell_type": "code",
   "execution_count": 75,
   "metadata": {},
   "outputs": [
    {
     "data": {
      "text/plain": [
       "Index(['Id', 'Freelancer_Link', 'User Id', 'Total_Feedback_Received',\n",
       "       'Hourly Rate', 'Starting Rate', 'Rating', 'Location', 'Annual Earnings',\n",
       "       'All-Time Earnings', 'Transactions Completed', 'Member Since', 'Skills',\n",
       "       'Average Earnings'],\n",
       "      dtype='object')"
      ]
     },
     "execution_count": 75,
     "metadata": {},
     "output_type": "execute_result"
    }
   ],
   "source": [
    "df.columns"
   ]
  },
  {
   "cell_type": "code",
   "execution_count": 76,
   "metadata": {},
   "outputs": [
    {
     "ename": "SyntaxError",
     "evalue": "invalid syntax (<ipython-input-76-b37f8870145c>, line 1)",
     "output_type": "error",
     "traceback": [
      "\u001b[0;36m  File \u001b[0;32m\"<ipython-input-76-b37f8870145c>\"\u001b[0;36m, line \u001b[0;32m1\u001b[0m\n\u001b[0;31m    df.append({'Id':, 'Freelancer_Link':, 'User_id':, 'Total_Feedback_Received':, 'Hourly Rate':, 'Starting Rate':, 'Rating':, 'Location':, 'Annual Earnings':, 'All-Time Earnings':, 'Transactions Completed':, 'Member Since':, 'Skills':, 'Average Earnings':, 'Profile Cluster Id':}, ignore_index=True)\u001b[0m\n\u001b[0m                    ^\u001b[0m\n\u001b[0;31mSyntaxError\u001b[0m\u001b[0;31m:\u001b[0m invalid syntax\n"
     ]
    }
   ],
   "source": [
    "df.append({'Id':, 'Freelancer_Link':, 'User_id':, 'Total_Feedback_Received':, 'Hourly Rate':, 'Starting Rate':, 'Rating':, 'Location':, 'Annual Earnings':, 'All-Time Earnings':, 'Transactions Completed':, 'Member Since':, 'Skills':, 'Average Earnings':, 'Profile Cluster Id':}, ignore_index=True)"
   ]
  },
  {
   "cell_type": "code",
   "execution_count": null,
   "metadata": {},
   "outputs": [],
   "source": []
  }
 ],
 "metadata": {
  "kernelspec": {
   "display_name": "Python 3",
   "language": "python",
   "name": "python3"
  },
  "language_info": {
   "codemirror_mode": {
    "name": "ipython",
    "version": 3
   },
   "file_extension": ".py",
   "mimetype": "text/x-python",
   "name": "python",
   "nbconvert_exporter": "python",
   "pygments_lexer": "ipython3",
   "version": "3.6.9"
  }
 },
 "nbformat": 4,
 "nbformat_minor": 2
}
